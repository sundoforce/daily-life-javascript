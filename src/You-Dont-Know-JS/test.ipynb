{
 "cells": [
  {
   "cell_type": "code",
   "execution_count": null,
   "outputs": [],
   "source": [
    "IPython.notebook.kernel.execute(\"python_var = '\" + IPython.notebook.notebook_name + \"'\");\n",
    "\n",
    "\n",
    "%%javascript\n",
    "\n",
    "IPython.notebook.kernel.execute(\"python_var = '\" + IPython.notebook.notebook_name + \"'\");\n",
    "\n",
    "python_var\n"
   ],
   "metadata": {
    "collapsed": false,
    "pycharm": {
     "name": "#%%%javascript\n"
    }
   }
  }
 ],
 "metadata": {
  "kernelspec": {
   "display_name": "Python 3",
   "language": "python",
   "name": "python3"
  },
  "language_info": {
   "codemirror_mode": {
    "name": "ipython",
    "version": 2
   },
   "file_extension": ".py",
   "mimetype": "text/x-python",
   "name": "python",
   "nbconvert_exporter": "python",
   "pygments_lexer": "ipython2",
   "version": "2.7.6"
  }
 },
 "nbformat": 4,
 "nbformat_minor": 0
}